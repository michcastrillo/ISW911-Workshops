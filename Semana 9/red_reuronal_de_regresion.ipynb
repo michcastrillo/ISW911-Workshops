{
  "nbformat": 4,
  "nbformat_minor": 0,
  "metadata": {
    "colab": {
      "provenance": []
    },
    "kernelspec": {
      "name": "python3",
      "display_name": "Python 3"
    },
    "language_info": {
      "name": "python"
    }
  },
  "cells": [
    {
      "cell_type": "code",
      "execution_count": 1,
      "metadata": {
        "id": "DwZ_rPqwniE2"
      },
      "outputs": [],
      "source": [
        "import  tensorflow as tf\n",
        "import numpy as np"
      ]
    },
    {
      "cell_type": "code",
      "source": [
        "celsius  =np.array([-40,-10,0,8,15,22,38])\n",
        "fareheit = np.array([-40,14,32,46,59,72,100])"
      ],
      "metadata": {
        "id": "wwuSMUyBnqgE"
      },
      "execution_count": 2,
      "outputs": []
    },
    {
      "cell_type": "code",
      "source": [
        "# red simple\n",
        "#capa=tf.keras.layers.Dense(units=1,input_shape=[1])\n",
        "#modelo =  tf.keras.Sequential([capa])\n",
        "#modelo =  tf.keras.Sequential([capa])\n",
        "\n",
        "# red con 3  neuronas\n",
        "ocula1=tf.keras.layers.Dense(units=3,input_shape=[1])\n",
        "ocula2=tf.keras.layers.Dense(units=3)\n",
        "salida=tf.keras.layers.Dense(units=1\n",
        "                             \n",
        "                             )\n",
        "\n",
        "modelo =  tf.keras.Sequential([ocula1,ocula2,salida])\n"
      ],
      "metadata": {
        "id": "fadv3BwBn_zY"
      },
      "execution_count": 9,
      "outputs": []
    },
    {
      "cell_type": "code",
      "source": [
        "modelo.compile(\n",
        "    optimizer=tf.keras.optimizers.Adam(0.1),\n",
        "    loss=\"mean_squared_error\")"
      ],
      "metadata": {
        "id": "darMw88toNg9"
      },
      "execution_count": 10,
      "outputs": []
    },
    {
      "cell_type": "code",
      "source": [
        "print(\"Comendando entrenamiento\")\n",
        "historial = modelo.fit(celsius,fareheit,epochs=1000 , verbose=False)\n",
        "print(\"Modelo entrenado\")"
      ],
      "metadata": {
        "colab": {
          "base_uri": "https://localhost:8080/"
        },
        "id": "VXSaJt-7opTL",
        "outputId": "2cbe85a0-a435-43a6-c32e-6ef5178e7446"
      },
      "execution_count": 11,
      "outputs": [
        {
          "output_type": "stream",
          "name": "stdout",
          "text": [
            "Comendando entrenamiento\n",
            "Modelo entrenado\n"
          ]
        }
      ]
    },
    {
      "cell_type": "code",
      "source": [
        "import matplotlib.pyplot as plt\n",
        "plt.xlabel(\"# Epoca\")\n",
        "plt.ylabel(\"Magnitud de perdida\")\n",
        "plt.plot(historial.history[\"loss\"])"
      ],
      "metadata": {
        "colab": {
          "base_uri": "https://localhost:8080/",
          "height": 296
        },
        "id": "s3il5phDo7qJ",
        "outputId": "7f9636a8-10aa-4a84-d91e-dc89c6969e09"
      },
      "execution_count": 12,
      "outputs": [
        {
          "output_type": "execute_result",
          "data": {
            "text/plain": [
              "[<matplotlib.lines.Line2D at 0x7fc1c20dd490>]"
            ]
          },
          "metadata": {},
          "execution_count": 12
        },
        {
          "output_type": "display_data",
          "data": {
            "text/plain": [
              "<Figure size 432x288 with 1 Axes>"
            ],
            "image/png": "[encoded data removed]"
          },
          "metadata": {
            "needs_background": "light"
          }
        }
      ]
    },
    {
      "cell_type": "code",
      "source": [
        "print(\"Hagamos una prediccion \")\n",
        "resultado =modelo.predict([150.0])\n",
        "print(\"El resultado es : \"+str(resultado) + \"Farenheit\")"
      ],
      "metadata": {
        "colab": {
          "base_uri": "https://localhost:8080/"
        },
        "id": "GHAT_JGzpfMq",
        "outputId": "34c381fa-90b5-47f0-bba0-7f292e07a24c"
      },
      "execution_count": 14,
      "outputs": [
        {
          "output_type": "stream",
          "name": "stdout",
          "text": [
            "Hagamos una prediccion \n",
            "1/1 [==============================] - 0s 28ms/step\n",
            "El resultado es : [[301.6449]]Farenheit\n"
          ]
        }
      ]
    },
    {
      "cell_type": "code",
      "source": [
        "print(\"Valores internos\")\n",
        "print(ocula1.get_weights())"
      ],
      "metadata": {
        "colab": {
          "base_uri": "https://localhost:8080/"
        },
        "id": "3fyDoo0UsLfD",
        "outputId": "0ddeebf8-39ce-45b6-ad10-eea1d4059652"
      },
      "execution_count": 15,
      "outputs": [
        {
          "output_type": "stream",
          "name": "stdout",
          "text": [
            "Valores internos\n",
            "[array([[ 0.30514106,  0.78680444, -0.12599307]], dtype=float32), array([-3.1234982,  3.6649342, -1.1982399], dtype=float32)]\n"
          ]
        }
      ]
    }
  ]
}