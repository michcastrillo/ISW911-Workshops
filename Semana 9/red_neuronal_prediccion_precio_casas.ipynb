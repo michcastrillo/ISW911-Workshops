{
  "nbformat": 4,
  "nbformat_minor": 0,
  "metadata": {
    "colab": {
      "provenance": []
    },
    "kernelspec": {
      "name": "python3",
      "display_name": "Python 3"
    },
    "language_info": {
      "name": "python"
    }
  },
  "cells": [
    {
      "cell_type": "markdown",
      "source": [
        "Una red neuronal es un modelo matemático que está inspirado en el cerebro humano y que se utiliza para resolver problemas complejos de clasificación, reconocimiento de patrones y predicción. Está compuesta por múltiples capas de unidades de procesamiento llamadas neuronas, que se interconectan entre sí y se entrenan para reconocer patrones en los datos de entrada y producir una salida deseada. Las redes neuronales se han utilizado en una variedad de aplicaciones, desde la visión por computadora hasta el procesamiento del lenguaje natural y la robótica."
      ],
      "metadata": {
        "id": "d2Ink-qfq9CR"
      }
    },
    {
      "cell_type": "code",
      "source": [
        "# Carga de las librerias \n",
        "import pandas as pd\n",
        "import numpy as np\n",
        "from keras.models import Sequential\n",
        "from keras.layers import Dense\n",
        "from sklearn.model_selection import train_test_split\n",
        "from sklearn.preprocessing import StandardScaler, LabelEncoder\n",
        "\n",
        "# Cargar el conjunto de datos precios de las casas\n",
        "url ='https://raw.githubusercontent.com/ywchiu/riii/master/data/house-prices.csv'\n",
        "df = pd.read_csv(url)\n"
      ],
      "metadata": {
        "id": "kK-QMLD46Mx-"
      },
      "execution_count": 106,
      "outputs": []
    },
    {
      "cell_type": "code",
      "source": [
        "df.info()"
      ],
      "metadata": {
        "id": "_5l8u6LF6OYT"
      },
      "execution_count": null,
      "outputs": []
    },
    {
      "cell_type": "code",
      "source": [
        "df.head(5)"
      ],
      "metadata": {
        "id": "3TSAxBjTiEMg"
      },
      "execution_count": null,
      "outputs": []
    },
    {
      "cell_type": "code",
      "source": [
        "# Eliminar las columnas \"Home\" , \"Offers\" y \"Brick\" ya que no aportan al modelo \n",
        "df.drop(['Home'], axis=1, inplace=True)"
      ],
      "metadata": {
        "id": "4Scteu506pd4"
      },
      "execution_count": 109,
      "outputs": []
    },
    {
      "cell_type": "code",
      "source": [
        "df['Neighborhood'].unique()"
      ],
      "metadata": {
        "colab": {
          "base_uri": "https://localhost:8080/"
        },
        "id": "FLPJT6T4DGUn",
        "outputId": "b7103fc3-fa20-42cc-827c-c83aef3ed2ba"
      },
      "execution_count": 114,
      "outputs": [
        {
          "output_type": "execute_result",
          "data": {
            "text/plain": [
              "array([0, 1, 2])"
            ]
          },
          "metadata": {},
          "execution_count": 114
        }
      ]
    },
    {
      "cell_type": "code",
      "source": [
        "df['Brick'].unique()"
      ],
      "metadata": {
        "colab": {
          "base_uri": "https://localhost:8080/"
        },
        "id": "Kst2BgcolRMs",
        "outputId": "30d7b53b-2ced-4ee9-f6e6-d28244dc18ba"
      },
      "execution_count": 115,
      "outputs": [
        {
          "output_type": "execute_result",
          "data": {
            "text/plain": [
              "array([0, 1])"
            ]
          },
          "metadata": {},
          "execution_count": 115
        }
      ]
    },
    {
      "cell_type": "code",
      "source": [
        "# Transformar la columna \"Neighborhood\" a numérica\n",
        "encoder = LabelEncoder()\n",
        "df['Brick'] = encoder.fit_transform(df['Brick'])\n",
        "\n",
        "# asi tambien se puede\n",
        "neighborhood_map = {'East': 0, 'North': 1, 'West': 2}\n",
        "df['Neighborhood'] = df['Neighborhood'].map(neighborhood_map)\n"
      ],
      "metadata": {
        "id": "cTMDdWdl61z3"
      },
      "execution_count": 112,
      "outputs": []
    },
    {
      "cell_type": "code",
      "source": [
        "#df.describe()\n",
        "df.head(5)"
      ],
      "metadata": {
        "id": "-qEJG2H46xJO"
      },
      "execution_count": null,
      "outputs": []
    },
    {
      "cell_type": "code",
      "source": [
        "# Calcular la matriz de correlación\n",
        "corr_matrix = df.corr()\n",
        "# Imprimir la matriz de correlación\n",
        "# esto determina si las variables son importantes para que el modelo haga la prediccion \n",
        "print(corr_matrix)"
      ],
      "metadata": {
        "id": "CreipWJLCbq_"
      },
      "execution_count": null,
      "outputs": []
    },
    {
      "cell_type": "code",
      "source": [
        "url ='https://raw.githubusercontent.com/ywchiu/riii/master/data/house-prices.csv'\n",
        "df = pd.read_csv(url)\n",
        "# Eliminar columnas innecesarias\n",
        "df = df.drop(columns=['Home', 'Offers'])\n",
        "# Transformar variable Neighborhood a numérica\n",
        "df['Neighborhood'] = pd.factorize(df['Neighborhood'])[0]\n",
        "df['Brick'] = pd.factorize(df['Brick'])[0]"
      ],
      "metadata": {
        "id": "kSSfbmscfw1Q"
      },
      "execution_count": 118,
      "outputs": []
    },
    {
      "cell_type": "code",
      "source": [
        "#df.describe()\n",
        "df.head(5)"
      ],
      "metadata": {
        "id": "ommcxxHwjefv"
      },
      "execution_count": null,
      "outputs": []
    },
    {
      "cell_type": "code",
      "source": [
        "df.info()"
      ],
      "metadata": {
        "id": "mPmXn7HJlxYz"
      },
      "execution_count": null,
      "outputs": []
    },
    {
      "cell_type": "code",
      "source": [
        "# Separar variables independientes y dependiente\n",
        "y = df['Price']\n",
        "X = df.drop(columns=['Price'])"
      ],
      "metadata": {
        "id": "LLCVltSajc51"
      },
      "execution_count": 121,
      "outputs": []
    },
    {
      "cell_type": "code",
      "source": [
        "X.head(5)\n",
        "#y.head(5)"
      ],
      "metadata": {
        "id": "ESp0dAolk2dP"
      },
      "execution_count": null,
      "outputs": []
    },
    {
      "cell_type": "code",
      "source": [
        "# Dividir conjunto de datos en entrenamiento y prueba\n",
        "X_train, X_test, y_train, y_test = train_test_split(X, y, test_size=0.2, random_state=42)\n",
        "#se utiliza para establecer una semilla (seed) aleatoria para la generación de números aleatorios\n",
        "#Al establecer una semilla aleatoria, se garantiza que la selección aleatoria de muestras será la misma cada vez que se ejecute el código\n",
        "#con el datset de entrenamiento\n",
        "# Normalizar variables de entrada\n",
        "scaler = StandardScaler()\n",
        "X_train = scaler.fit_transform(X_train)\n",
        "X_test = scaler.transform(X_test)"
      ],
      "metadata": {
        "id": "D9JrYy9Df1Kf"
      },
      "execution_count": 123,
      "outputs": []
    },
    {
      "cell_type": "code",
      "source": [
        "# Definir arquitectura del modelo de red neuronal\n",
        "#Se crea un modelo secuencial vacío al que se le pueden agregar capas. esto seria similar a lo que vimos en la pagina de demo\n",
        "model = Sequential()\n",
        "#Se agrega una capa densa (Dense) a la red neuronal con 64 neuronas (nodos) y se especifica que la entrada a \n",
        "#esta capa tiene 4 dimensiones. Además, se utiliza la función de activación ReLU (Rectified Linear Unit), \n",
        "#que es una función no lineal que se utiliza para introducir no linealidad en la red neuronal.\n",
        "model.add(Dense(64, input_dim=5, activation='relu'))\n",
        "#Se agrega otra capa densa a la red neuronal con 32 neuronas y se utiliza la función de activación ReLU.\n",
        "model.add(Dense(32, activation='relu'))\n",
        "#Se agrega una última capa densa a la red neuronal con una sola neurona que produce la salida de la red. \n",
        "model.add(Dense(1, activation='linear'))\n",
        "#la arquitectura definida consta de dos capas ocultas (con 64 y 32 neuronas, respectivamente) y una \n",
        "#capa de salida con una sola neurona y una función de activación lineal. La activación ReLU se utiliza \n",
        "#en las dos capas ocultas para introducir no linealidad en la red neuronal\n",
        "# Compilar modelo\n",
        "model.compile(loss='mean_squared_error', optimizer='adam')"
      ],
      "metadata": {
        "id": "aBQXEuR3f3j3"
      },
      "execution_count": 124,
      "outputs": []
    },
    {
      "cell_type": "code",
      "source": [
        "# Entrenar modelo\n",
        "#X_train: el conjunto de datos de entrenamiento de las variables independientes (features), que es una matriz de tamaño (número de ejemplos de entrenamiento, número de características).\n",
        "#y_train: el conjunto de datos de entrenamiento de la variable dependiente (target), que es una matriz de tamaño (número de ejemplos de entrenamiento, 1).\n",
        "#epochs: el número de épocas (iteraciones) que se utilizarán para entrenar el modelo.\n",
        "#batch_size: el tamaño del lote (batch) que se utilizará para el entrenamiento. Es decir, el número de ejemplos que se utilizarán en cada paso de actualización de pesos durante el entrenamiento.\n",
        "#verbose: un parámetro opcional que indica la cantidad de información que se mostrará durante el entrenamiento. \n",
        "#Un valor de 0 significa que no se mostrará ninguna información durante el entrenamiento, mientras que un valor de 1 o superior significa que se mostrará información sobre el progreso del entrenamiento.\n",
        "\n",
        "model.fit(X_train, y_train, epochs=1000, batch_size=64, verbose=0)\n",
        "\n",
        "# Evaluar modelo en conjunto de entrenamiento\n",
        "mset = model.evaluate(X_train, y_train)\n",
        "print(\"El error cuadrático medio en el conjunto de entrenamiento es:\", round(mset, 2))\n",
        "\n",
        "# Evaluar modelo en conjunto de prueba\n",
        "mse = model.evaluate(X_test, y_test)\n",
        "print(\"El error cuadrático medio en el conjunto de prueba es:\", round(mse, 2))"
      ],
      "metadata": {
        "colab": {
          "base_uri": "https://localhost:8080/"
        },
        "id": "G23Tnotm7rbW",
        "outputId": "f2ccf780-0eef-4dfa-c296-6e128a51b602"
      },
      "execution_count": 137,
      "outputs": [
        {
          "output_type": "stream",
          "name": "stdout",
          "text": [
            "4/4 [==============================] - 0s 4ms/step - loss: 104808520.0000\n",
            "El error cuadrático medio en el conjunto de entrenamiento es: 104808520.0\n",
            "1/1 [==============================] - 0s 26ms/step - loss: 193013568.0000\n",
            "El error cuadrático medio en el conjunto de prueba es: 193013568.0\n"
          ]
        }
      ]
    },
    {
      "cell_type": "code",
      "source": [
        "# Guardar modelo\n",
        "#El formato de archivo .h5 es una extensión de archivo que se utiliza para guardar y almacenar modelos de redes neuronales en Keras\n",
        "model.save('house_prices_model.h5')\n",
        "print(\"Modelo guardado correctamente como house_prices_model.h5\")"
      ],
      "metadata": {
        "colab": {
          "base_uri": "https://localhost:8080/"
        },
        "id": "wMQRQ6ZKgg_X",
        "outputId": "9a98bacf-cc4e-42c7-e1e0-bdc015fb79e4"
      },
      "execution_count": 138,
      "outputs": [
        {
          "output_type": "stream",
          "name": "stdout",
          "text": [
            "Modelo guardado correctamente como house_prices_model.h5\n"
          ]
        }
      ]
    },
    {
      "cell_type": "code",
      "source": [
        "from keras.models import load_model\n",
        "# Cargar el modelo entrenado\n",
        "model = load_model('house_prices_model.h5')"
      ],
      "metadata": {
        "id": "sVfUHrBHgGKL"
      },
      "execution_count": 139,
      "outputs": []
    },
    {
      "cell_type": "code",
      "source": [
        "# Obtener los valores de entrada del usuario\n",
        "sqft = float(input(\"Ingresa los pies cuadrados (SqFt) de la casa: \"))\n",
        "bedrooms = int(input(\"Ingresa el número de habitaciones (Bedrooms) de la casa: \"))\n",
        "bathrooms = int(input(\"Ingresa el número de baños (Bathrooms) de la casa: \"))\n",
        "neighborhood = int(input(\"Ingresa el número de region de la zona (Neighborhood) de la casa: \"))\n",
        "brick = int(input(\"Ingresa si la casa es de ladrillo (Brick) : \"))\n"
      ],
      "metadata": {
        "colab": {
          "base_uri": "https://localhost:8080/"
        },
        "id": "2EN0lgfggHDr",
        "outputId": "e4c78b6e-e769-462d-86da-85563171ceec"
      },
      "execution_count": 140,
      "outputs": [
        {
          "name": "stdout",
          "output_type": "stream",
          "text": [
            "Ingresa los pies cuadrados (SqFt) de la casa: 2850\n",
            "Ingresa el número de habitaciones (Bedrooms) de la casa: 3\n",
            "Ingresa el número de baños (Bathrooms) de la casa: 1\n",
            "Ingresa el número de region de la zona (Neighborhood) de la casa: 3\n",
            "Ingresa si la casa es de ladrillo (Brick) : 0\n"
          ]
        }
      ]
    },
    {
      "cell_type": "code",
      "source": [
        "# Normalizar los valores de entrada\n",
        "scaler = StandardScaler()\n",
        "X = np.array([[sqft, bedrooms, bathrooms,neighborhood,brick]])\n",
        "X = scaler.fit_transform(X)"
      ],
      "metadata": {
        "id": "ou48gf5vgMHT"
      },
      "execution_count": 141,
      "outputs": []
    },
    {
      "cell_type": "code",
      "source": [
        "# Realizar la predicción con el modelo\n",
        "y_pred = model.predict(X)\n",
        "# Imprimir la predicción\n",
        "print(\"El precio de la casa es: ${:,.2f}\".format(y_pred[0,0]))\n",
        "#print(\"\\033[1m\\033[31mEl precio de la casa es: ${:,.2f} dólares\\033[0m\".format(y_pred[0,0]))\n",
        "\n",
        "\n"
      ],
      "metadata": {
        "colab": {
          "base_uri": "https://localhost:8080/"
        },
        "id": "N0Rx-7if73bP",
        "outputId": "ff3034f7-29c7-4062-9b81-7db58cd6d153"
      },
      "execution_count": 148,
      "outputs": [
        {
          "output_type": "stream",
          "name": "stdout",
          "text": [
            "1/1 [==============================] - 0s 26ms/step\n",
            "\u001b[1m\u001b[31mEl precio de la casa es: $107,754.84 dólares\u001b[0m\n"
          ]
        }
      ]
    }
  ]
}